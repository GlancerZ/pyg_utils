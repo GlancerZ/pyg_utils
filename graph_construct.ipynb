{
 "cells": [
  {
   "cell_type": "markdown",
   "id": "ffee53f3",
   "metadata": {},
   "source": [
    "# 构建KNN_graph的方式"
   ]
  },
  {
   "cell_type": "markdown",
   "id": "33e1abab",
   "metadata": {},
   "source": [
    "## 1、使用sklearn模块"
   ]
  },
  {
   "cell_type": "code",
   "execution_count": null,
   "id": "2020ccf0",
   "metadata": {},
   "outputs": [],
   "source": [
    "import torch\n",
    "import numpy as numpy\n",
    "from sklearn import neighbors\n",
    "from torch_geometric.data import Data\n",
    "from torch_geometric.utils import to_undirected\n",
    "\n",
    "KNN_graph = neighbors.kneighbors_graph(data, n_neighbors=10, metric='cosine', mode = 'connectivity', n_jobs=30)\n",
    "KNN_g = np.array(np.nonzero(KNN_graph.todense()))\n",
    "source = np.array(KNN_g[0])\n",
    "target = np.array(KNN_g[1])\n",
    "edge_index = torch.tensor([source,target], dtype=torch.long)\n",
    "edge_index = to_undirected(edge_index)\n",
    "graph = Data(x=torch.tensor(data), edge_index=edge_index)"
   ]
  },
  {
   "cell_type": "markdown",
   "id": "c8156cf9",
   "metadata": {},
   "source": [
    "### 首先处理好数据data，选择neighbor数量，度量矩阵 (默认是欧几里得距离，也可以用cosine距离) ，mode表示联通与否 (或者可以选择距离) ，n_jobs表示计算使用的核心数量。导出source，target信息之后转化为无向图，最后构建pyg对象graph。"
   ]
  },
  {
   "cell_type": "markdown",
   "id": "1fa077c6",
   "metadata": {},
   "source": [
    "## 2、使用torch_cluster模块"
   ]
  },
  {
   "cell_type": "code",
   "execution_count": null,
   "id": "73e8ffb2",
   "metadata": {},
   "outputs": [],
   "source": [
    "from torch_cluster import knn_graph\n",
    "from torch_geometric.utils import to_undirected\n",
    "device = torch.device('cuda:0')\n",
    "\n",
    "edge_index = knn_graph(torch.tensor(data).to(device), k=10, cosine=True, loop=False)\n",
    "edge_index = to_undirected(edge_index)\n",
    "graph = Data(x=torch.tensor(adata.X), edge_index=edge_index)"
   ]
  },
  {
   "cell_type": "markdown",
   "id": "8a8de413",
   "metadata": {},
   "source": [
    "### torch_cluster就只能计算cosine距离或者欧几里得距离了，而且数据需要先加载到GPU上"
   ]
  },
  {
   "cell_type": "code",
   "execution_count": null,
   "id": "89768df7",
   "metadata": {},
   "outputs": [],
   "source": [
    "# 值得注意的是，我们计算"
   ]
  }
 ],
 "metadata": {
  "kernelspec": {
   "display_name": "Python [conda env:gclsc]",
   "language": "python",
   "name": "conda-env-gclsc-py"
  },
  "language_info": {
   "codemirror_mode": {
    "name": "ipython",
    "version": 3
   },
   "file_extension": ".py",
   "mimetype": "text/x-python",
   "name": "python",
   "nbconvert_exporter": "python",
   "pygments_lexer": "ipython3",
   "version": "3.8.12"
  }
 },
 "nbformat": 4,
 "nbformat_minor": 5
}
